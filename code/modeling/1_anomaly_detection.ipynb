{
 "cells": [
  {
   "cell_type": "code",
   "execution_count": 1,
   "metadata": {},
   "outputs": [
    {
     "data": {
      "text/html": [
       "<div>\n",
       "<style scoped>\n",
       "    .dataframe tbody tr th:only-of-type {\n",
       "        vertical-align: middle;\n",
       "    }\n",
       "\n",
       "    .dataframe tbody tr th {\n",
       "        vertical-align: top;\n",
       "    }\n",
       "\n",
       "    .dataframe thead th {\n",
       "        text-align: right;\n",
       "    }\n",
       "</style>\n",
       "<table border=\"1\" class=\"dataframe\">\n",
       "  <thead>\n",
       "    <tr style=\"text-align: right;\">\n",
       "      <th></th>\n",
       "      <th>t_in</th>\n",
       "      <th>p_in</th>\n",
       "      <th>e_cond</th>\n",
       "      <th>e_boiler</th>\n",
       "      <th>styr_flow</th>\n",
       "      <th>specific_energy</th>\n",
       "    </tr>\n",
       "  </thead>\n",
       "  <tbody>\n",
       "    <tr>\n",
       "      <th>0</th>\n",
       "      <td>303.15</td>\n",
       "      <td>20000.0</td>\n",
       "      <td>7128.94</td>\n",
       "      <td>8803.54</td>\n",
       "      <td>4.40306</td>\n",
       "      <td>3618.501678</td>\n",
       "    </tr>\n",
       "    <tr>\n",
       "      <th>1</th>\n",
       "      <td>303.15</td>\n",
       "      <td>22105.3</td>\n",
       "      <td>7128.94</td>\n",
       "      <td>8803.52</td>\n",
       "      <td>4.40306</td>\n",
       "      <td>3618.497136</td>\n",
       "    </tr>\n",
       "    <tr>\n",
       "      <th>2</th>\n",
       "      <td>303.15</td>\n",
       "      <td>24210.5</td>\n",
       "      <td>7128.94</td>\n",
       "      <td>8803.51</td>\n",
       "      <td>4.40306</td>\n",
       "      <td>3618.494865</td>\n",
       "    </tr>\n",
       "    <tr>\n",
       "      <th>3</th>\n",
       "      <td>303.15</td>\n",
       "      <td>26315.8</td>\n",
       "      <td>7128.94</td>\n",
       "      <td>8803.49</td>\n",
       "      <td>4.40306</td>\n",
       "      <td>3618.490323</td>\n",
       "    </tr>\n",
       "    <tr>\n",
       "      <th>4</th>\n",
       "      <td>303.15</td>\n",
       "      <td>28421.1</td>\n",
       "      <td>7128.94</td>\n",
       "      <td>8803.48</td>\n",
       "      <td>4.40306</td>\n",
       "      <td>3618.488051</td>\n",
       "    </tr>\n",
       "  </tbody>\n",
       "</table>\n",
       "</div>"
      ],
      "text/plain": [
       "     t_in     p_in   e_cond  e_boiler  styr_flow  specific_energy\n",
       "0  303.15  20000.0  7128.94   8803.54    4.40306      3618.501678\n",
       "1  303.15  22105.3  7128.94   8803.52    4.40306      3618.497136\n",
       "2  303.15  24210.5  7128.94   8803.51    4.40306      3618.494865\n",
       "3  303.15  26315.8  7128.94   8803.49    4.40306      3618.490323\n",
       "4  303.15  28421.1  7128.94   8803.48    4.40306      3618.488051"
      ]
     },
     "execution_count": 1,
     "metadata": {},
     "output_type": "execute_result"
    }
   ],
   "source": [
    "import joblib\n",
    "import warnings\n",
    "import numpy as np\n",
    "import pandas as pd\n",
    "from minisom import MiniSom\n",
    "import matplotlib.pyplot as plt\n",
    "from sklearn.preprocessing import MinMaxScaler\n",
    "\n",
    "# ignore warnings\n",
    "warnings.filterwarnings('ignore')\n",
    "\n",
    "# load the data\n",
    "data = pd.read_excel('../../data/distillation_column.xlsx', sheet_name='Sheet1')\n",
    "data.columns = ['t_in', 'p_in', 'e_cond', 'e_boiler', 'styr_flow']\n",
    "data['specific_energy'] = (data['e_cond'] + data['e_boiler']) / data['styr_flow']\n",
    "data.head()"
   ]
  },
  {
   "cell_type": "code",
   "execution_count": 2,
   "metadata": {},
   "outputs": [
    {
     "data": {
      "text/html": [
       "<div>\n",
       "<style scoped>\n",
       "    .dataframe tbody tr th:only-of-type {\n",
       "        vertical-align: middle;\n",
       "    }\n",
       "\n",
       "    .dataframe tbody tr th {\n",
       "        vertical-align: top;\n",
       "    }\n",
       "\n",
       "    .dataframe thead th {\n",
       "        text-align: right;\n",
       "    }\n",
       "</style>\n",
       "<table border=\"1\" class=\"dataframe\">\n",
       "  <thead>\n",
       "    <tr style=\"text-align: right;\">\n",
       "      <th></th>\n",
       "      <th>t_in</th>\n",
       "      <th>p_in</th>\n",
       "      <th>e_cond</th>\n",
       "      <th>e_boiler</th>\n",
       "      <th>styr_flow</th>\n",
       "      <th>specific_energy</th>\n",
       "    </tr>\n",
       "  </thead>\n",
       "  <tbody>\n",
       "    <tr>\n",
       "      <th>0</th>\n",
       "      <td>303.15</td>\n",
       "      <td>20000.0</td>\n",
       "      <td>7128.94</td>\n",
       "      <td>8803.54</td>\n",
       "      <td>4.40306</td>\n",
       "      <td>3618.501678</td>\n",
       "    </tr>\n",
       "    <tr>\n",
       "      <th>1</th>\n",
       "      <td>303.15</td>\n",
       "      <td>22105.3</td>\n",
       "      <td>7128.94</td>\n",
       "      <td>8803.52</td>\n",
       "      <td>4.40306</td>\n",
       "      <td>3618.497136</td>\n",
       "    </tr>\n",
       "    <tr>\n",
       "      <th>2</th>\n",
       "      <td>303.15</td>\n",
       "      <td>24210.5</td>\n",
       "      <td>7128.94</td>\n",
       "      <td>8803.51</td>\n",
       "      <td>4.40306</td>\n",
       "      <td>3618.494865</td>\n",
       "    </tr>\n",
       "    <tr>\n",
       "      <th>3</th>\n",
       "      <td>303.15</td>\n",
       "      <td>26315.8</td>\n",
       "      <td>7128.94</td>\n",
       "      <td>8803.49</td>\n",
       "      <td>4.40306</td>\n",
       "      <td>3618.490323</td>\n",
       "    </tr>\n",
       "    <tr>\n",
       "      <th>4</th>\n",
       "      <td>303.15</td>\n",
       "      <td>28421.1</td>\n",
       "      <td>7128.94</td>\n",
       "      <td>8803.48</td>\n",
       "      <td>4.40306</td>\n",
       "      <td>3618.488051</td>\n",
       "    </tr>\n",
       "  </tbody>\n",
       "</table>\n",
       "</div>"
      ],
      "text/plain": [
       "     t_in     p_in   e_cond  e_boiler  styr_flow  specific_energy\n",
       "0  303.15  20000.0  7128.94   8803.54    4.40306      3618.501678\n",
       "1  303.15  22105.3  7128.94   8803.52    4.40306      3618.497136\n",
       "2  303.15  24210.5  7128.94   8803.51    4.40306      3618.494865\n",
       "3  303.15  26315.8  7128.94   8803.49    4.40306      3618.490323\n",
       "4  303.15  28421.1  7128.94   8803.48    4.40306      3618.488051"
      ]
     },
     "execution_count": 2,
     "metadata": {},
     "output_type": "execute_result"
    }
   ],
   "source": [
    "# randomly select 5 % of rows indexs to be the temperature anomalies\n",
    "anomalous_indices = np.random.choice(data.index, int(len(data) * 0.05), replace=False)\n",
    "data.loc[anomalous_indices, 't_in'] += np.random.normal(100, 100, len(anomalous_indices))\n",
    "data.head()"
   ]
  },
  {
   "cell_type": "code",
   "execution_count": 3,
   "metadata": {},
   "outputs": [
    {
     "data": {
      "image/png": "[encoded data removed]",
      "text/plain": [
       "<Figure size 640x480 with 1 Axes>"
      ]
     },
     "metadata": {},
     "output_type": "display_data"
    }
   ],
   "source": [
    "# plot the temperature anomalies\n",
    "plt.scatter(data.index, data['t_in'])\n",
    "plt.xlabel('Time')\n",
    "plt.ylabel('Temperature (deg. C)')\n",
    "plt.show()"
   ]
  },
  {
   "cell_type": "code",
   "execution_count": 4,
   "metadata": {},
   "outputs": [
    {
     "data": {
      "text/html": [
       "<div>\n",
       "<style scoped>\n",
       "    .dataframe tbody tr th:only-of-type {\n",
       "        vertical-align: middle;\n",
       "    }\n",
       "\n",
       "    .dataframe tbody tr th {\n",
       "        vertical-align: top;\n",
       "    }\n",
       "\n",
       "    .dataframe thead th {\n",
       "        text-align: right;\n",
       "    }\n",
       "</style>\n",
       "<table border=\"1\" class=\"dataframe\">\n",
       "  <thead>\n",
       "    <tr style=\"text-align: right;\">\n",
       "      <th></th>\n",
       "      <th>t_in</th>\n",
       "      <th>p_in</th>\n",
       "      <th>e_cond</th>\n",
       "      <th>e_boiler</th>\n",
       "      <th>styr_flow</th>\n",
       "      <th>specific_energy</th>\n",
       "    </tr>\n",
       "  </thead>\n",
       "  <tbody>\n",
       "    <tr>\n",
       "      <th>0</th>\n",
       "      <td>303.15</td>\n",
       "      <td>20000.0</td>\n",
       "      <td>7128.94</td>\n",
       "      <td>8803.54</td>\n",
       "      <td>4.40306</td>\n",
       "      <td>3618.900468</td>\n",
       "    </tr>\n",
       "    <tr>\n",
       "      <th>1</th>\n",
       "      <td>303.15</td>\n",
       "      <td>22105.3</td>\n",
       "      <td>7128.94</td>\n",
       "      <td>8803.52</td>\n",
       "      <td>4.40306</td>\n",
       "      <td>3618.900468</td>\n",
       "    </tr>\n",
       "    <tr>\n",
       "      <th>2</th>\n",
       "      <td>303.15</td>\n",
       "      <td>24210.5</td>\n",
       "      <td>7128.94</td>\n",
       "      <td>8803.51</td>\n",
       "      <td>4.40306</td>\n",
       "      <td>3618.900468</td>\n",
       "    </tr>\n",
       "    <tr>\n",
       "      <th>3</th>\n",
       "      <td>303.15</td>\n",
       "      <td>26315.8</td>\n",
       "      <td>7128.94</td>\n",
       "      <td>8803.49</td>\n",
       "      <td>4.40306</td>\n",
       "      <td>3618.900468</td>\n",
       "    </tr>\n",
       "    <tr>\n",
       "      <th>4</th>\n",
       "      <td>303.15</td>\n",
       "      <td>28421.1</td>\n",
       "      <td>7128.94</td>\n",
       "      <td>8803.48</td>\n",
       "      <td>4.40306</td>\n",
       "      <td>3618.900468</td>\n",
       "    </tr>\n",
       "  </tbody>\n",
       "</table>\n",
       "</div>"
      ],
      "text/plain": [
       "     t_in     p_in   e_cond  e_boiler  styr_flow  specific_energy\n",
       "0  303.15  20000.0  7128.94   8803.54    4.40306      3618.900468\n",
       "1  303.15  22105.3  7128.94   8803.52    4.40306      3618.900468\n",
       "2  303.15  24210.5  7128.94   8803.51    4.40306      3618.900468\n",
       "3  303.15  26315.8  7128.94   8803.49    4.40306      3618.900468\n",
       "4  303.15  28421.1  7128.94   8803.48    4.40306      3618.900468"
      ]
     },
     "execution_count": 4,
     "metadata": {},
     "output_type": "execute_result"
    }
   ],
   "source": [
    "# load the specific energy model\n",
    "model = joblib.load('../models/specific_energy_model.pkl')\n",
    "\n",
    "# predict the specific energy\n",
    "data['specific_energy'] = model.predict(data[['t_in']])\n",
    "data.head()"
   ]
  },
  {
   "cell_type": "code",
   "execution_count": 5,
   "metadata": {},
   "outputs": [
    {
     "data": {
      "image/png": "[encoded data removed]",
      "text/plain": [
       "<Figure size 640x480 with 1 Axes>"
      ]
     },
     "metadata": {},
     "output_type": "display_data"
    }
   ],
   "source": [
    "# plot the specific energy\n",
    "plt.scatter(data.index, data['specific_energy'])\n",
    "plt.xlabel('Time')\n",
    "plt.ylabel('Specific Energy (kJ/kg)')\n",
    "plt.show()"
   ]
  },
  {
   "cell_type": "code",
   "execution_count": 6,
   "metadata": {},
   "outputs": [
    {
     "data": {
      "text/html": [
       "<div>\n",
       "<style scoped>\n",
       "    .dataframe tbody tr th:only-of-type {\n",
       "        vertical-align: middle;\n",
       "    }\n",
       "\n",
       "    .dataframe tbody tr th {\n",
       "        vertical-align: top;\n",
       "    }\n",
       "\n",
       "    .dataframe thead th {\n",
       "        text-align: right;\n",
       "    }\n",
       "</style>\n",
       "<table border=\"1\" class=\"dataframe\">\n",
       "  <thead>\n",
       "    <tr style=\"text-align: right;\">\n",
       "      <th></th>\n",
       "      <th>t_in</th>\n",
       "      <th>p_in</th>\n",
       "      <th>e_cond</th>\n",
       "      <th>e_boiler</th>\n",
       "      <th>styr_flow</th>\n",
       "      <th>specific_energy</th>\n",
       "      <th>anomaly</th>\n",
       "    </tr>\n",
       "  </thead>\n",
       "  <tbody>\n",
       "    <tr>\n",
       "      <th>0</th>\n",
       "      <td>303.15</td>\n",
       "      <td>20000.0</td>\n",
       "      <td>7128.94</td>\n",
       "      <td>8803.54</td>\n",
       "      <td>4.40306</td>\n",
       "      <td>3618.900468</td>\n",
       "      <td>0</td>\n",
       "    </tr>\n",
       "    <tr>\n",
       "      <th>1</th>\n",
       "      <td>303.15</td>\n",
       "      <td>22105.3</td>\n",
       "      <td>7128.94</td>\n",
       "      <td>8803.52</td>\n",
       "      <td>4.40306</td>\n",
       "      <td>3618.900468</td>\n",
       "      <td>0</td>\n",
       "    </tr>\n",
       "    <tr>\n",
       "      <th>2</th>\n",
       "      <td>303.15</td>\n",
       "      <td>24210.5</td>\n",
       "      <td>7128.94</td>\n",
       "      <td>8803.51</td>\n",
       "      <td>4.40306</td>\n",
       "      <td>3618.900468</td>\n",
       "      <td>0</td>\n",
       "    </tr>\n",
       "    <tr>\n",
       "      <th>3</th>\n",
       "      <td>303.15</td>\n",
       "      <td>26315.8</td>\n",
       "      <td>7128.94</td>\n",
       "      <td>8803.49</td>\n",
       "      <td>4.40306</td>\n",
       "      <td>3618.900468</td>\n",
       "      <td>0</td>\n",
       "    </tr>\n",
       "    <tr>\n",
       "      <th>4</th>\n",
       "      <td>303.15</td>\n",
       "      <td>28421.1</td>\n",
       "      <td>7128.94</td>\n",
       "      <td>8803.48</td>\n",
       "      <td>4.40306</td>\n",
       "      <td>3618.900468</td>\n",
       "      <td>0</td>\n",
       "    </tr>\n",
       "  </tbody>\n",
       "</table>\n",
       "</div>"
      ],
      "text/plain": [
       "     t_in     p_in   e_cond  e_boiler  styr_flow  specific_energy  anomaly\n",
       "0  303.15  20000.0  7128.94   8803.54    4.40306      3618.900468        0\n",
       "1  303.15  22105.3  7128.94   8803.52    4.40306      3618.900468        0\n",
       "2  303.15  24210.5  7128.94   8803.51    4.40306      3618.900468        0\n",
       "3  303.15  26315.8  7128.94   8803.49    4.40306      3618.900468        0\n",
       "4  303.15  28421.1  7128.94   8803.48    4.40306      3618.900468        0"
      ]
     },
     "execution_count": 6,
     "metadata": {},
     "output_type": "execute_result"
    }
   ],
   "source": [
    "# tag the anomalous data\n",
    "data['anomaly'] = np.where(data.index.isin(anomalous_indices), 1, 0)\n",
    "data.head()"
   ]
  },
  {
   "cell_type": "code",
   "execution_count": 7,
   "metadata": {},
   "outputs": [],
   "source": [
    "# sample x and y\n",
    "x = data[['t_in', 'specific_energy']]\n",
    "y = data['anomaly']"
   ]
  },
  {
   "cell_type": "code",
   "execution_count": 8,
   "metadata": {},
   "outputs": [
    {
     "name": "stdout",
     "output_type": "stream",
     "text": [
      "Map Size: 10\n"
     ]
    }
   ],
   "source": [
    "# scale the features and fit SOM\n",
    "scaler = MinMaxScaler(feature_range=(0, 1))\n",
    "scaler.fit(x)\n",
    "\n",
    "x_sc = scaler.transform(x)\n",
    "\n",
    "# determine the grid size\n",
    "N = int(np.sqrt(5 * np.sqrt(x_sc.shape[0]))) \n",
    "print(f'Map Size: {N}')"
   ]
  },
  {
   "cell_type": "code",
   "execution_count": 9,
   "metadata": {},
   "outputs": [],
   "source": [
    "# fit a SOM with the best influence radius (n=1)\n",
    "N = 5\n",
    "som = MiniSom(x=N, y=N, input_len=x_sc.shape[1], sigma=1, learning_rate=0.5)\n",
    "som.random_weights_init(x_sc)\n",
    "som.train_random(x_sc, num_iteration=200)"
   ]
  },
  {
   "cell_type": "code",
   "execution_count": 10,
   "metadata": {},
   "outputs": [],
   "source": [
    "# get the distance map\n",
    "dists = som.distance_map()"
   ]
  },
  {
   "cell_type": "code",
   "execution_count": 11,
   "metadata": {},
   "outputs": [],
   "source": [
    "# get winning neurons for each sample\n",
    "dist_list = []\n",
    "winning = []\n",
    "for i in range(x_sc.shape[0]):\n",
    "\n",
    "    # get winning neuron coordinates\n",
    "    coord = som.winner(x=x_sc[i])\n",
    "    winning.append(coord)\n",
    "\n",
    "    # get distance\n",
    "    dist_list.append(dists[coord])\n",
    "\n",
    "# add the winning neurons to the data\n",
    "x_data = pd.DataFrame(scaler.inverse_transform(x_sc), columns=['t_in', 'specific_energy'])\n",
    "x_data['winning'] = winning\n",
    "x_data['dist'] = dist_list\n",
    "\n",
    "# append the target column\n",
    "x_data['anomaly'] = y"
   ]
  },
  {
   "cell_type": "code",
   "execution_count": 12,
   "metadata": {},
   "outputs": [
    {
     "data": {
      "text/html": [
       "<div>\n",
       "<style scoped>\n",
       "    .dataframe tbody tr th:only-of-type {\n",
       "        vertical-align: middle;\n",
       "    }\n",
       "\n",
       "    .dataframe tbody tr th {\n",
       "        vertical-align: top;\n",
       "    }\n",
       "\n",
       "    .dataframe thead th {\n",
       "        text-align: right;\n",
       "    }\n",
       "</style>\n",
       "<table border=\"1\" class=\"dataframe\">\n",
       "  <thead>\n",
       "    <tr style=\"text-align: right;\">\n",
       "      <th></th>\n",
       "      <th>t_in</th>\n",
       "      <th>specific_energy</th>\n",
       "      <th>winning</th>\n",
       "      <th>dist</th>\n",
       "      <th>anomaly</th>\n",
       "    </tr>\n",
       "  </thead>\n",
       "  <tbody>\n",
       "    <tr>\n",
       "      <th>0</th>\n",
       "      <td>303.15</td>\n",
       "      <td>3618.900468</td>\n",
       "      <td>(1, 4)</td>\n",
       "      <td>0.035903</td>\n",
       "      <td>0</td>\n",
       "    </tr>\n",
       "    <tr>\n",
       "      <th>1</th>\n",
       "      <td>303.15</td>\n",
       "      <td>3618.900468</td>\n",
       "      <td>(1, 4)</td>\n",
       "      <td>0.035903</td>\n",
       "      <td>0</td>\n",
       "    </tr>\n",
       "    <tr>\n",
       "      <th>2</th>\n",
       "      <td>303.15</td>\n",
       "      <td>3618.900468</td>\n",
       "      <td>(1, 4)</td>\n",
       "      <td>0.035903</td>\n",
       "      <td>0</td>\n",
       "    </tr>\n",
       "    <tr>\n",
       "      <th>3</th>\n",
       "      <td>303.15</td>\n",
       "      <td>3618.900468</td>\n",
       "      <td>(1, 4)</td>\n",
       "      <td>0.035903</td>\n",
       "      <td>0</td>\n",
       "    </tr>\n",
       "    <tr>\n",
       "      <th>4</th>\n",
       "      <td>303.15</td>\n",
       "      <td>3618.900468</td>\n",
       "      <td>(1, 4)</td>\n",
       "      <td>0.035903</td>\n",
       "      <td>0</td>\n",
       "    </tr>\n",
       "    <tr>\n",
       "      <th>...</th>\n",
       "      <td>...</td>\n",
       "      <td>...</td>\n",
       "      <td>...</td>\n",
       "      <td>...</td>\n",
       "      <td>...</td>\n",
       "    </tr>\n",
       "    <tr>\n",
       "      <th>395</th>\n",
       "      <td>333.15</td>\n",
       "      <td>3537.580343</td>\n",
       "      <td>(3, 2)</td>\n",
       "      <td>0.518035</td>\n",
       "      <td>0</td>\n",
       "    </tr>\n",
       "    <tr>\n",
       "      <th>396</th>\n",
       "      <td>333.15</td>\n",
       "      <td>3537.580343</td>\n",
       "      <td>(3, 2)</td>\n",
       "      <td>0.518035</td>\n",
       "      <td>0</td>\n",
       "    </tr>\n",
       "    <tr>\n",
       "      <th>397</th>\n",
       "      <td>333.15</td>\n",
       "      <td>3537.580343</td>\n",
       "      <td>(3, 2)</td>\n",
       "      <td>0.518035</td>\n",
       "      <td>0</td>\n",
       "    </tr>\n",
       "    <tr>\n",
       "      <th>398</th>\n",
       "      <td>333.15</td>\n",
       "      <td>3537.580343</td>\n",
       "      <td>(3, 2)</td>\n",
       "      <td>0.518035</td>\n",
       "      <td>0</td>\n",
       "    </tr>\n",
       "    <tr>\n",
       "      <th>399</th>\n",
       "      <td>333.15</td>\n",
       "      <td>3537.580343</td>\n",
       "      <td>(3, 2)</td>\n",
       "      <td>0.518035</td>\n",
       "      <td>0</td>\n",
       "    </tr>\n",
       "  </tbody>\n",
       "</table>\n",
       "<p>400 rows × 5 columns</p>\n",
       "</div>"
      ],
      "text/plain": [
       "       t_in  specific_energy winning      dist  anomaly\n",
       "0    303.15      3618.900468  (1, 4)  0.035903        0\n",
       "1    303.15      3618.900468  (1, 4)  0.035903        0\n",
       "2    303.15      3618.900468  (1, 4)  0.035903        0\n",
       "3    303.15      3618.900468  (1, 4)  0.035903        0\n",
       "4    303.15      3618.900468  (1, 4)  0.035903        0\n",
       "..      ...              ...     ...       ...      ...\n",
       "395  333.15      3537.580343  (3, 2)  0.518035        0\n",
       "396  333.15      3537.580343  (3, 2)  0.518035        0\n",
       "397  333.15      3537.580343  (3, 2)  0.518035        0\n",
       "398  333.15      3537.580343  (3, 2)  0.518035        0\n",
       "399  333.15      3537.580343  (3, 2)  0.518035        0\n",
       "\n",
       "[400 rows x 5 columns]"
      ]
     },
     "execution_count": 12,
     "metadata": {},
     "output_type": "execute_result"
    }
   ],
   "source": [
    "x_data"
   ]
  },
  {
   "cell_type": "code",
   "execution_count": 13,
   "metadata": {},
   "outputs": [],
   "source": [
    "# check probability of being an anomaly based the winning neuron\n",
    "prob_table = x_data.groupby('winning')['anomaly'].agg(func=['mean', 'count'])\n",
    "\n",
    "# save prob_table as a JSON\n",
    "prob_table.to_json('../../data/prob_table.json')\n"
   ]
  },
  {
   "cell_type": "code",
   "execution_count": 14,
   "metadata": {},
   "outputs": [],
   "source": [
    "# save the data\n",
    "data.to_csv('../../data/data_with_anomaly.csv', index=False)"
   ]
  },
  {
   "cell_type": "code",
   "execution_count": 15,
   "metadata": {},
   "outputs": [
    {
     "data": {
      "text/plain": [
       "['../models/som.pkl']"
      ]
     },
     "execution_count": 15,
     "metadata": {},
     "output_type": "execute_result"
    }
   ],
   "source": [
    "# save the SOM\n",
    "joblib.dump(som, '../models/som.pkl')"
   ]
  },
  {
   "cell_type": "code",
   "execution_count": 16,
   "metadata": {},
   "outputs": [
    {
     "data": {
      "text/plain": [
       "['../models/scaler.pkl']"
      ]
     },
     "execution_count": 16,
     "metadata": {},
     "output_type": "execute_result"
    }
   ],
   "source": [
    "# save the scaler\n",
    "joblib.dump(scaler, '../models/scaler.pkl')"
   ]
  }
 ],
 "metadata": {
  "kernelspec": {
   "display_name": "dtwins",
   "language": "python",
   "name": "python3"
  },
  "language_info": {
   "codemirror_mode": {
    "name": "ipython",
    "version": 3
   },
   "file_extension": ".py",
   "mimetype": "text/x-python",
   "name": "python",
   "nbconvert_exporter": "python",
   "pygments_lexer": "ipython3",
   "version": "3.11.9"
  }
 },
 "nbformat": 4,
 "nbformat_minor": 2
}
